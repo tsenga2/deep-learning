{
 "cells": [
  {
   "cell_type": "markdown",
   "metadata": {},
   "source": [
    "## 2.3 Pythonの文法"
   ]
  },
  {
   "cell_type": "markdown",
   "metadata": {},
   "source": [
    "### 2.3.1 変数と型"
   ]
  },
  {
   "cell_type": "code",
   "execution_count": null,
   "metadata": {},
   "outputs": [],
   "source": [
    "a = 123"
   ]
  },
  {
   "cell_type": "code",
   "execution_count": null,
   "metadata": {},
   "outputs": [],
   "source": [
    "a = 123  # 整数型\n",
    "b = 123.456  # 浮動小数点型\n",
    "c = \"Hello World!\"  # 文字列型\n",
    "d = True  # 論理型\n",
    "e = [1, 2, 3]  #リスト型"
   ]
  },
  {
   "cell_type": "code",
   "execution_count": null,
   "metadata": {},
   "outputs": [],
   "source": [
    "a = 123\n",
    "print(type(a))"
   ]
  },
  {
   "cell_type": "code",
   "execution_count": null,
   "metadata": {},
   "outputs": [],
   "source": [
    "a = True; b = False\n",
    "print(a+b)"
   ]
  },
  {
   "cell_type": "code",
   "execution_count": null,
   "metadata": {},
   "outputs": [],
   "source": [
    "1.2e5   # 1.2x10の5乗 120000\n",
    "1.2e-5  # 1.2x10の-5乗 0.000012"
   ]
  },
  {
   "cell_type": "markdown",
   "metadata": {},
   "source": [
    "### 2.3.2 演算子"
   ]
  },
  {
   "cell_type": "code",
   "execution_count": null,
   "metadata": {},
   "outputs": [],
   "source": [
    "a = 3; b = 4\n",
    "\n",
    "c = a + b               # 足し算\n",
    "print(c) \n",
    "\n",
    "d = a < b               # 比較（小さいかどうか）\n",
    "print(d)\n",
    "\n",
    "e = 3 < 4 and 4 < 5     # 論理和\n",
    "print(e)"
   ]
  },
  {
   "cell_type": "code",
   "execution_count": null,
   "metadata": {},
   "outputs": [],
   "source": [
    "a = \"Hello\" + \"World\"\n",
    "print(a)\n",
    "\n",
    "b = [1, 2, 3] + [4, 5, 6]\n",
    "print(b)"
   ]
  },
  {
   "cell_type": "markdown",
   "metadata": {},
   "source": [
    "### 2.3.3 リスト"
   ]
  },
  {
   "cell_type": "code",
   "execution_count": null,
   "metadata": {},
   "outputs": [],
   "source": [
    "a = [1, 2, 3, 4, 5]     # リストの作成\n",
    "\n",
    "b = a[2]                # 3番目の要素を取得\n",
    "print(b)\n",
    "\n",
    "a.append(6)             # 末尾に要素を追加する\n",
    "print(a)\n",
    "\n",
    "a[2] = 7                # 要素の入れ替え\n",
    "print(a)"
   ]
  },
  {
   "cell_type": "markdown",
   "metadata": {},
   "source": [
    "### 2.3.4 タプル"
   ]
  },
  {
   "cell_type": "code",
   "execution_count": null,
   "metadata": {},
   "outputs": [],
   "source": [
    "a = (1, 2, 3, 4, 5)     # タプルの作成\n",
    "\n",
    "b = a[2]                # 3番目の要素を取得\n",
    "print(b)"
   ]
  },
  {
   "cell_type": "code",
   "execution_count": null,
   "metadata": {},
   "outputs": [],
   "source": [
    "print(a + (6, 7, 8, 9, 10))"
   ]
  },
  {
   "cell_type": "code",
   "execution_count": null,
   "metadata": {},
   "outputs": [],
   "source": [
    "a = [1, 2, 3]\n",
    "a1, a2, a3 = a\n",
    "print(a1, a2, a3)\n",
    "\n",
    "b = (4, 5, 6)\n",
    "b1, b2, b3 = b\n",
    "print(b1, b2, b3)"
   ]
  },
  {
   "cell_type": "markdown",
   "metadata": {},
   "source": [
    "### 2.3.5 辞書"
   ]
  },
  {
   "cell_type": "code",
   "execution_count": null,
   "metadata": {},
   "outputs": [],
   "source": [
    "a = {\"Apple\":3, \"Pineapple\":4}      # 辞書の作成\n",
    "\n",
    "print(a[\"Apple\"])       # \"Apple\"のキーを持つ値を取得\n",
    "\n",
    "a[\"Pinapple\"] = 6       # 要素の入れ替え\n",
    "print(a[\"Pinapple\"])\n",
    "\n",
    "a[\"Melon\"] = 3          # 要素の追加\n",
    "print(a)"
   ]
  },
  {
   "cell_type": "markdown",
   "metadata": {},
   "source": [
    "### 2.3.6 if文"
   ]
  },
  {
   "cell_type": "code",
   "execution_count": null,
   "metadata": {},
   "outputs": [],
   "source": [
    "a = 7\n",
    "if a < 12:\n",
    "    print(\"Good morning!\")\n",
    "elif a < 17:\n",
    "    print(\"Good afternoon!\")\n",
    "elif a < 21:\n",
    "    print(\"Good evening!\")\n",
    "else:\n",
    "    print(\"Good night!\")"
   ]
  },
  {
   "cell_type": "markdown",
   "metadata": {},
   "source": [
    "### 2.3.7 for文"
   ]
  },
  {
   "cell_type": "code",
   "execution_count": null,
   "metadata": {},
   "outputs": [],
   "source": [
    "for a in [4, 7, 10]:    # リストを使ったループ\n",
    "    print(a)\n",
    "    \n",
    "for a in range(3):      # rangeを使ったループ\n",
    "    print(a)"
   ]
  },
  {
   "cell_type": "markdown",
   "metadata": {},
   "source": [
    "### 2.3.8 while文"
   ]
  },
  {
   "cell_type": "code",
   "execution_count": null,
   "metadata": {},
   "outputs": [],
   "source": [
    "a = 0\n",
    "while a < 3:\n",
    "    print(a)\n",
    "    a += 1"
   ]
  },
  {
   "cell_type": "markdown",
   "metadata": {},
   "source": [
    "### 2.3.9 内包表記"
   ]
  },
  {
   "cell_type": "code",
   "execution_count": null,
   "metadata": {},
   "outputs": [],
   "source": [
    "a = [1, 2, 3, 4, 5, 6, 7]\n",
    "b = [c*2 for c in a]    # aの要素を2倍して新たなリストを作る\n",
    "print(b)"
   ]
  },
  {
   "cell_type": "code",
   "execution_count": null,
   "metadata": {},
   "outputs": [],
   "source": [
    "a = [1, 2, 3, 4, 5, 6, 7]\n",
    "b = [c*2 for c in a if c < 5]\n",
    "print(b)"
   ]
  },
  {
   "cell_type": "markdown",
   "metadata": {},
   "source": [
    "### 2.3.10 関数"
   ]
  },
  {
   "cell_type": "code",
   "execution_count": null,
   "metadata": {},
   "outputs": [],
   "source": [
    "def add(a, b):          # 関数の定義\n",
    "    c = a + b\n",
    "    return c\n",
    "\n",
    "print(add(3, 4))        # 関数の実行"
   ]
  },
  {
   "cell_type": "code",
   "execution_count": null,
   "metadata": {},
   "outputs": [],
   "source": [
    "def add(a, b=4):        # 第2引数にデフォルト値を設定\n",
    "    c = a + b\n",
    "    return c\n",
    "\n",
    "print(add(3))           # 第2引数は指定しない"
   ]
  },
  {
   "cell_type": "code",
   "execution_count": null,
   "metadata": {},
   "outputs": [],
   "source": [
    "def add(a, b ,c):\n",
    "    d = a + b + c\n",
    "    print(d)\n",
    "\n",
    "e = (1, 2, 3)\n",
    "add(*e)           # 複数の引数を一度に渡す"
   ]
  },
  {
   "cell_type": "markdown",
   "metadata": {},
   "source": [
    "### 2.3.11 変数のスコープ"
   ]
  },
  {
   "cell_type": "code",
   "execution_count": null,
   "metadata": {},
   "outputs": [],
   "source": [
    "a = 123         # グローバル変数\n",
    "\n",
    "def showNum():\n",
    "    b = 456     # ローカル変数\n",
    "    print(a, b)\n",
    "    \n",
    "showNum()"
   ]
  },
  {
   "cell_type": "code",
   "execution_count": null,
   "metadata": {},
   "outputs": [],
   "source": [
    "a = 123\n",
    "\n",
    "def setLocal():\n",
    "    a = 456     # aはローカル変数とみなされる\n",
    "    print(\"Local:\", a)\n",
    "    \n",
    "setLocal()\n",
    "print(\"Global:\", a)"
   ]
  },
  {
   "cell_type": "code",
   "execution_count": null,
   "metadata": {},
   "outputs": [],
   "source": [
    "a = 123\n",
    "\n",
    "def setGlobal():\n",
    "    global a            # nonlocalでも可\n",
    "    a = 456\n",
    "    print(\"Global:\", a)\n",
    "    \n",
    "setGlobal()\n",
    "print(\"Global:\", a)"
   ]
  },
  {
   "cell_type": "markdown",
   "metadata": {},
   "source": [
    "### 2.3.12 クラス"
   ]
  },
  {
   "cell_type": "code",
   "execution_count": null,
   "metadata": {},
   "outputs": [],
   "source": [
    "class Calc:\n",
    "    def __init__(self, a):\n",
    "        self.a = a\n",
    "   \n",
    "    def add(self, b):\n",
    "        print(self.a + b)\n",
    "        \n",
    "    def multiply(self, b):\n",
    "        print(self.a * b)"
   ]
  },
  {
   "cell_type": "code",
   "execution_count": null,
   "metadata": {},
   "outputs": [],
   "source": [
    "calc = Calc(3)\n",
    "calc.add(4)\n",
    "calc.multiply(4)"
   ]
  },
  {
   "cell_type": "code",
   "execution_count": null,
   "metadata": {},
   "outputs": [],
   "source": [
    "class CalcPlus(Calc):     # Calcを継承\n",
    "    def subtract(self, b):\n",
    "        print(self.a - b)\n",
    "        \n",
    "    def divide(self, b):\n",
    "        print(self.a / b)"
   ]
  },
  {
   "cell_type": "code",
   "execution_count": null,
   "metadata": {},
   "outputs": [],
   "source": [
    "calc_plus = CalcPlus(3)\n",
    "calc_plus.add(4)\n",
    "calc_plus.multiply(4)\n",
    "calc_plus.subtract(4)\n",
    "calc_plus.divide(4)"
   ]
  },
  {
   "cell_type": "code",
   "execution_count": null,
   "metadata": {},
   "outputs": [],
   "source": []
  }
 ],
 "metadata": {
  "kernelspec": {
   "display_name": "Python 3",
   "language": "python",
   "name": "python3"
  },
  "language_info": {
   "codemirror_mode": {
    "name": "ipython",
    "version": 3
   },
   "file_extension": ".py",
   "mimetype": "text/x-python",
   "name": "python",
   "nbconvert_exporter": "python",
   "pygments_lexer": "ipython3",
   "version": "3.6.5"
  }
 },
 "nbformat": 4,
 "nbformat_minor": 2
}
